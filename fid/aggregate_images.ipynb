{
 "cells": [
  {
   "cell_type": "code",
   "execution_count": 7,
   "id": "8df6b29f-b995-47d6-babc-2b3a7c9d53bd",
   "metadata": {},
   "outputs": [],
   "source": [
    "from PIL import Image\n",
    "import os\n",
    "from tqdm import tqdm\n",
    "import matplotlib.pyplot as plt\n",
    "from torchvision.utils import save_image\n",
    "from torchvision import transforms"
   ]
  },
  {
   "cell_type": "code",
   "execution_count": 22,
   "id": "5caa835b-1846-46c6-ba73-a96d662a7281",
   "metadata": {},
   "outputs": [],
   "source": [
    "source_dir = 'pretrained_256_64_output'\n",
    "num_imgs = 100\n",
    "os.makedirs('summary', exist_ok=True)"
   ]
  },
  {
   "cell_type": "code",
   "execution_count": 23,
   "id": "88faf0dc-2ba6-42e9-93d0-13bbf2d7f08b",
   "metadata": {},
   "outputs": [],
   "source": [
    "transform = transforms.ToTensor()\n",
    "imgs = []\n",
    "for i, img_dir in enumerate(sorted(os.listdir(source_dir))):\n",
    "    if i >= num_imgs:\n",
    "        break\n",
    "    imgs.append(transform(Image.open(os.path.join(source_dir, img_dir))))\n",
    "save_image(imgs, os.path.join('summary', source_dir+'.png'), nrow=10)\n"
   ]
  },
  {
   "cell_type": "code",
   "execution_count": null,
   "id": "5c4d9d82-515a-4c72-ba87-5659c0db8c56",
   "metadata": {},
   "outputs": [],
   "source": []
  }
 ],
 "metadata": {
  "kernelspec": {
   "display_name": "Python 3",
   "language": "python",
   "name": "python3"
  },
  "language_info": {
   "codemirror_mode": {
    "name": "ipython",
    "version": 3
   },
   "file_extension": ".py",
   "mimetype": "text/x-python",
   "name": "python",
   "nbconvert_exporter": "python",
   "pygments_lexer": "ipython3",
   "version": "3.8.8"
  }
 },
 "nbformat": 4,
 "nbformat_minor": 5
}
