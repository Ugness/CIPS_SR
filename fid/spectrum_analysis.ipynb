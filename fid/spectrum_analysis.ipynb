{
 "cells": [
  {
   "cell_type": "code",
   "execution_count": 1,
   "id": "b7c2fa78-b66e-4dd4-bad8-b03a7809b698",
   "metadata": {},
   "outputs": [
    {
     "ename": "FileExistsError",
     "evalue": "[Errno 17] File exists: 'fft'",
     "output_type": "error",
     "traceback": [
      "\u001b[0;31m---------------------------------------------------------------------------\u001b[0m",
      "\u001b[0;31mFileExistsError\u001b[0m                           Traceback (most recent call last)",
      "\u001b[0;32m<ipython-input-1-7d2a00cad0d3>\u001b[0m in \u001b[0;36m<module>\u001b[0;34m\u001b[0m\n\u001b[1;32m      7\u001b[0m \u001b[0;34m\u001b[0m\u001b[0m\n\u001b[1;32m      8\u001b[0m \u001b[0;32mimport\u001b[0m \u001b[0mos\u001b[0m\u001b[0;34m\u001b[0m\u001b[0;34m\u001b[0m\u001b[0m\n\u001b[0;32m----> 9\u001b[0;31m \u001b[0mos\u001b[0m\u001b[0;34m.\u001b[0m\u001b[0mmakedirs\u001b[0m\u001b[0;34m(\u001b[0m\u001b[0;34m'fft'\u001b[0m\u001b[0;34m)\u001b[0m\u001b[0;34m\u001b[0m\u001b[0;34m\u001b[0m\u001b[0m\n\u001b[0m",
      "\u001b[0;32m/opt/conda/lib/python3.8/os.py\u001b[0m in \u001b[0;36mmakedirs\u001b[0;34m(name, mode, exist_ok)\u001b[0m\n\u001b[1;32m    221\u001b[0m             \u001b[0;32mreturn\u001b[0m\u001b[0;34m\u001b[0m\u001b[0;34m\u001b[0m\u001b[0m\n\u001b[1;32m    222\u001b[0m     \u001b[0;32mtry\u001b[0m\u001b[0;34m:\u001b[0m\u001b[0;34m\u001b[0m\u001b[0;34m\u001b[0m\u001b[0m\n\u001b[0;32m--> 223\u001b[0;31m         \u001b[0mmkdir\u001b[0m\u001b[0;34m(\u001b[0m\u001b[0mname\u001b[0m\u001b[0;34m,\u001b[0m \u001b[0mmode\u001b[0m\u001b[0;34m)\u001b[0m\u001b[0;34m\u001b[0m\u001b[0;34m\u001b[0m\u001b[0m\n\u001b[0m\u001b[1;32m    224\u001b[0m     \u001b[0;32mexcept\u001b[0m \u001b[0mOSError\u001b[0m\u001b[0;34m:\u001b[0m\u001b[0;34m\u001b[0m\u001b[0;34m\u001b[0m\u001b[0m\n\u001b[1;32m    225\u001b[0m         \u001b[0;31m# Cannot rely on checking for EEXIST, since the operating system\u001b[0m\u001b[0;34m\u001b[0m\u001b[0;34m\u001b[0m\u001b[0;34m\u001b[0m\u001b[0m\n",
      "\u001b[0;31mFileExistsError\u001b[0m: [Errno 17] File exists: 'fft'"
     ]
    }
   ],
   "source": [
    "import numpy as np\n",
    "import matplotlib.pyplot as plt\n",
    "from skimage.io import imread, imshow\n",
    "from skimage.color import rgb2hsv, rgb2gray, rgb2yuv\n",
    "from skimage import color, exposure, transform\n",
    "from skimage.exposure import equalize_hist\n",
    "\n",
    "import os\n",
    "os.makedirs('fft')"
   ]
  },
  {
   "cell_type": "code",
   "execution_count": null,
   "id": "9c788971-ff43-475c-9d13-0bcd08e36115",
   "metadata": {},
   "outputs": [],
   "source": [
    "exp = 'CIPS-SR-64-256'"
   ]
  },
  {
   "cell_type": "code",
   "execution_count": null,
   "id": "038bce07-97aa-4548-9bd1-45e811c6da33",
   "metadata": {},
   "outputs": [],
   "source": [
    "ffts = []\n",
    "for img_dir in os.listdir(exp):\n",
    "    img = imread(os.path.join(exp, img_dir))\n",
    "    gray = rgb2gray(img)\n",
    "    fft = np.fft.fftshift(np.fft.fft2(gray))\n",
    "    ffts.append(fft)\n",
    "    \n",
    "#     plt.imshow(np.log(abs(fft)))\n",
    "#     break"
   ]
  },
  {
   "cell_type": "code",
   "execution_count": null,
   "id": "22157035-5729-4cb3-81c3-012bdd94623d",
   "metadata": {},
   "outputs": [],
   "source": [
    "fft_summary = np.stack(ffts).mean(0)"
   ]
  },
  {
   "cell_type": "code",
   "execution_count": null,
   "id": "c984b513-c81d-410d-a4cd-f34148a46918",
   "metadata": {},
   "outputs": [],
   "source": [
    "plt.imshow(np.log(abs(fft_summary)))\n",
    "plt.savefig(f'fft/{exp}.png')"
   ]
  },
  {
   "cell_type": "code",
   "execution_count": null,
   "id": "86c0687d-6729-491d-a9f4-4fd1dac47d1e",
   "metadata": {},
   "outputs": [],
   "source": []
  },
  {
   "cell_type": "code",
   "execution_count": null,
   "id": "7c07f659-c877-43e8-bf9a-fb101344196c",
   "metadata": {},
   "outputs": [],
   "source": []
  },
  {
   "cell_type": "code",
   "execution_count": null,
   "id": "58fdedd0-16b1-4047-844b-5e6ee19b206b",
   "metadata": {},
   "outputs": [],
   "source": [
    "exp = 'CIPS-SR-64-256-output'"
   ]
  },
  {
   "cell_type": "code",
   "execution_count": null,
   "id": "02c6b8e3-d99e-47ad-b945-83d4441f11ae",
   "metadata": {},
   "outputs": [],
   "source": [
    "ffts = []\n",
    "for img_dir in os.listdir(exp):\n",
    "    img = imread(os.path.join(exp, img_dir))\n",
    "    gray = rgb2gray(img)\n",
    "    fft = np.fft.fftshift(np.fft.fft2(gray))\n",
    "    ffts.append(fft)\n",
    "    \n",
    "#     plt.imshow(np.log(abs(fft)))\n",
    "#     break"
   ]
  },
  {
   "cell_type": "code",
   "execution_count": null,
   "id": "910f5612-6821-4cac-bb24-8e8408251dd0",
   "metadata": {},
   "outputs": [],
   "source": [
    "fft_summary = np.stack(ffts).mean(0)"
   ]
  },
  {
   "cell_type": "code",
   "execution_count": null,
   "id": "7847aad6-45aa-4708-8b08-891695fea0c4",
   "metadata": {},
   "outputs": [],
   "source": [
    "plt.imshow(np.log(abs(fft_summary)))\n",
    "plt.savefig(f'fft/{exp}.png')"
   ]
  },
  {
   "cell_type": "code",
   "execution_count": null,
   "id": "0330442b-e87b-4dc4-a6fe-46b146684a30",
   "metadata": {},
   "outputs": [],
   "source": []
  },
  {
   "cell_type": "code",
   "execution_count": null,
   "id": "e439ca70-b3cc-423f-a7f3-6cc4fa12df0f",
   "metadata": {},
   "outputs": [],
   "source": []
  },
  {
   "cell_type": "code",
   "execution_count": null,
   "id": "1140ed22-a187-4b74-8a5a-77a6bf41686b",
   "metadata": {},
   "outputs": [],
   "source": [
    "exp = 'CIPS-64-256'"
   ]
  },
  {
   "cell_type": "code",
   "execution_count": null,
   "id": "427071fe-3990-4b60-897c-9d58b7e22dbb",
   "metadata": {},
   "outputs": [],
   "source": [
    "ffts = []\n",
    "for img_dir in os.listdir(exp):\n",
    "    img = imread(os.path.join(exp, img_dir))\n",
    "    gray = rgb2gray(img)\n",
    "    fft = np.fft.fftshift(np.fft.fft2(gray))\n",
    "    ffts.append(fft)\n",
    "    \n",
    "#     plt.imshow(np.log(abs(fft)))\n",
    "#     break"
   ]
  },
  {
   "cell_type": "code",
   "execution_count": null,
   "id": "4cc9f815-4c95-4074-8349-c920bfd0a4c4",
   "metadata": {},
   "outputs": [],
   "source": [
    "fft_summary = np.stack(ffts).mean(0)"
   ]
  },
  {
   "cell_type": "code",
   "execution_count": null,
   "id": "2a020ab8-0cb7-411f-b21e-4851fc353fe3",
   "metadata": {},
   "outputs": [],
   "source": [
    "plt.imshow(np.log(abs(fft_summary)))\n",
    "plt.savefig(f'fft/{exp}.png')"
   ]
  },
  {
   "cell_type": "code",
   "execution_count": null,
   "id": "6c877a65-8b44-4803-ae87-ca3578ec4c64",
   "metadata": {},
   "outputs": [],
   "source": []
  },
  {
   "cell_type": "code",
   "execution_count": null,
   "id": "1eca735d-bd22-4d5b-bb53-a2218a31fed7",
   "metadata": {},
   "outputs": [],
   "source": []
  },
  {
   "cell_type": "code",
   "execution_count": null,
   "id": "fe393b66-713d-47f2-9ab2-71f3ce9fd916",
   "metadata": {},
   "outputs": [],
   "source": [
    "exp = 'CIPS-64-256-output'"
   ]
  },
  {
   "cell_type": "code",
   "execution_count": null,
   "id": "3a3a11fa-6985-4569-9e66-c9b82ed37109",
   "metadata": {},
   "outputs": [],
   "source": [
    "ffts = []\n",
    "for img_dir in os.listdir(exp):\n",
    "    img = imread(os.path.join(exp, img_dir))\n",
    "    gray = rgb2gray(img)\n",
    "    fft = np.fft.fftshift(np.fft.fft2(gray))\n",
    "    ffts.append(fft)\n",
    "    \n",
    "#     plt.imshow(np.log(abs(fft)))\n",
    "#     break"
   ]
  },
  {
   "cell_type": "code",
   "execution_count": null,
   "id": "305c2b20-f0ae-4ec4-ac71-5b72cab779b6",
   "metadata": {},
   "outputs": [],
   "source": [
    "fft_summary = np.stack(ffts).mean(0)"
   ]
  },
  {
   "cell_type": "code",
   "execution_count": null,
   "id": "0ddc12f9-272c-4779-9e79-76ee459b73d8",
   "metadata": {},
   "outputs": [],
   "source": [
    "plt.imshow(np.log(abs(fft_summary)))\n",
    "plt.savefig(f'fft/{exp}.png')"
   ]
  },
  {
   "cell_type": "code",
   "execution_count": null,
   "id": "ac0d8f5e-745c-44ed-8071-0eddf7156a90",
   "metadata": {},
   "outputs": [],
   "source": []
  },
  {
   "cell_type": "code",
   "execution_count": null,
   "id": "a9b34bfc-4b73-43b2-9be3-e92eb2a91e3e",
   "metadata": {},
   "outputs": [],
   "source": []
  },
  {
   "cell_type": "code",
   "execution_count": null,
   "id": "02fef2b7-b2c2-4b13-b385-dd6e55992683",
   "metadata": {},
   "outputs": [],
   "source": [
    "exp = 'pretrained_256'"
   ]
  },
  {
   "cell_type": "code",
   "execution_count": null,
   "id": "27326ec3-3b52-4f87-8cf1-341938d1c8d8",
   "metadata": {},
   "outputs": [],
   "source": [
    "ffts = []\n",
    "for img_dir in os.listdir(exp):\n",
    "    img = imread(os.path.join(exp, img_dir))\n",
    "    gray = rgb2gray(img)\n",
    "    fft = np.fft.fftshift(np.fft.fft2(gray))\n",
    "    ffts.append(fft)\n",
    "    \n",
    "#     plt.imshow(np.log(abs(fft)))\n",
    "#     break"
   ]
  },
  {
   "cell_type": "code",
   "execution_count": null,
   "id": "6afa9c0c-2889-4b74-9c25-70a7cd0123a7",
   "metadata": {},
   "outputs": [],
   "source": [
    "fft_summary = np.stack(ffts).mean(0)"
   ]
  },
  {
   "cell_type": "code",
   "execution_count": null,
   "id": "15b424ee-b06d-4f60-9bc0-7249f799c013",
   "metadata": {},
   "outputs": [],
   "source": [
    "plt.imshow(np.log(abs(fft_summary)))\n",
    "plt.savefig(f'fft/{exp}.png')"
   ]
  },
  {
   "cell_type": "code",
   "execution_count": null,
   "id": "5c2984c7-06a9-43f6-8d8c-78874720361a",
   "metadata": {},
   "outputs": [],
   "source": []
  }
 ],
 "metadata": {
  "kernelspec": {
   "display_name": "Python 3",
   "language": "python",
   "name": "python3"
  },
  "language_info": {
   "codemirror_mode": {
    "name": "ipython",
    "version": 3
   },
   "file_extension": ".py",
   "mimetype": "text/x-python",
   "name": "python",
   "nbconvert_exporter": "python",
   "pygments_lexer": "ipython3",
   "version": "3.8.8"
  }
 },
 "nbformat": 4,
 "nbformat_minor": 5
}
